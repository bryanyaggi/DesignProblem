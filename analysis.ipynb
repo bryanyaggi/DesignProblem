{
 "cells": [
  {
   "cell_type": "markdown",
   "metadata": {},
   "source": [
    "# Mechanical Design Analysis\n",
    "\n",
    "Before manufacturing the prototype, the following steps and analysis should be completed.\n",
    "\n",
    "1. Determine if the design is appropriate for the intended application.\n",
    "2. Determine if the mechanism will work assuming all parts are made perfectly and are operating in an ideal environment.\n",
    "3. Detailed design to ensure mechanism performance.\n",
    "\n",
    "## Determine if Design is Appropriate\n",
    "\n",
    "I would ask the customer a few questions to make sure that the prototype is appropriate. The questions would be as follow.\n",
    "\n",
    "1. Does the prototype fit with the current system?\n",
    "    - Is the prototype an acceptable size?\n",
    "    - Does the prototype interface with the carriage work?\n",
    "    - Will the prototype always be clear of the rest of the system and is the handle accessible to the user?\n",
    "2. Is the design appropriate for the intended application?\n",
    "    - What is the expected speed and frequency of switching modes?\n",
    "    - Is manual meshing of the clamp and timing belt teeth acceptable?\n",
    "    - Based on responses from the customer, the design might be rethought.\n",
    "3. What are the operating conditions?\n",
    "    - Temperature range, cleanliness\n",
    "    - What is the expected life of the mechanism?\n",
    "    - Learn about the different use cases to determine if anything was not considered.\n",
    "    \n",
    "## Determine if Mechanism Will Work under Ideal Conditions\n",
    "\n",
    "Assuming the design is appropriate, I would determine if the mechanism will function given all parts are manufactured perfectly and it is operating in an ideal environment. It is assumed that the cam is brass, the shaft and fasteners are stainless steel, and the housing and other components are aluminum. The list of functionalities I would analyze are as follow.\n",
    "\n",
    "1. Timing belt clamping in forward and reverse modes\n",
    "2. No interferrence with timing belt in neutral mode\n",
    "3. Remaining in selected mode and user ability to switch modes\n",
    "\n",
    "### Clamping in Forward and Reverse Modes\n",
    "\n",
    "<img src = \"images/dwg1.png\", width = 800>\n",
    "<div style = \"text-align: center\">Geometry in Forward Mode</div>\n",
    "\n",
    "When the handle is turned to the forward position, the cam will be in the position shown. In order for the clamp to function, tooth engagement between the belt and clamp should be maximum without the belt experiencing excessive clamping pressure. To achieve this, the teeth should be longer and slightly narrower on the clamp. The linear bearings will keep the clamp from rotating about the vertical axis while the cam will keep the clamp pressed to the timing belt against the plate. The bottom radius of the cam should be undersized to ensure clamping on top. The force from the cam is applied at the horizontal center of mass of the clamp along the entire depth of the clamp. Clamp vertical deflection should not be an issue due to the short length of the clamp and the presence of the linear bearings. The bottom of the housing has plenty of clearance with the bottom timing belt.\n",
    "\n",
    "The reverse mode geometry will be the mirror of the forward mode geometry about the horizontal midplane of the mechanism.\n",
    "\n",
    "### No Interferrence in Neutral Mode\n",
    "\n",
    "<img src = \"images/dwg2.png\", width = 800>\n",
    "<div style = \"text-align: center\">Geometry in Neutral Mode</div>\n",
    "\n",
    "When the handle is turned to the neutral position, the cam will be in the position shown. The cam should be sized to have a close running or sliding fit with the clamp in this configuration so that the clamp will move very little with respect to the cam. The clamp is within the housing and has clearance with the timing belt teeth on top and bottom. It is assumed that the timing belt has enough tension so that it will not contact the plates on either side when not being pressed by the clamp. A chamfer could be added to the ends of the plates to prevent the back of the timing belt from catching.\n",
    "\n",
    "### Remaining in Selected Mode and Switching Modes\n",
    "\n",
    "For this design, the mechanism will remain in the selected mode unless the handle detent holding force is overcome. The calculations to determine the detent holding force follow.\n",
    "\n",
    "<img src = \"images/fbd1.jpg\", width = 400>\n",
    "<div style = \"text-align: center\">Free Body Diagram of Ball-Nose Plunger</div>\n",
    "\n",
    "$r_{ball}$ is the radius of the ball<br>\n",
    "$l_{plunger}$ is the length the ball extends below the device<br>\n",
    "$d_{offset}$ is the distance between the device and the opposing surface<br>\n",
    "$F_{spring}$ is the force the plunger spring exerts on the ball<br>\n",
    "$F_{contact}$ is the force the edge of the hole exerts on the ball<br>\n",
    "$\\theta$ is the angle the contact force makes with vertical\n",
    "\n",
    "\\begin{align}\n",
    "    \\theta &= cos^{-1}(\\frac{r_{ball} - l_{plunger} + d_{offset}}{r_{ball}})\\\\\n",
    "    \\sum F_y&: -F_{spring} + F_{contact} \\cos(\\theta) = 0\\\\\n",
    "    \\sum F_x&: -F_{hold} + F_{contact} \\sin(\\theta) = 0\n",
    "\\end{align}"
   ]
  },
  {
   "cell_type": "code",
   "execution_count": 6,
   "metadata": {},
   "outputs": [
    {
     "name": "stdout",
     "output_type": "stream",
     "text": [
      "When plunger fully extended:\n",
      "contact angle = 47.1 degrees\n",
      "hold force = 2.15 lbf\n",
      "required hole diameter = 0.0688 inches\n"
     ]
    }
   ],
   "source": [
    "import math\n",
    "\n",
    "ball_diameter = .094 # inches\n",
    "extended_length = .025 # inches\n",
    "offset_distance = .010 # inches\n",
    "extended_force = 2.0 # lbf\n",
    "compressed_force = 5.0 # lbf\n",
    "\n",
    "def calc_hold_force(plunger_length):\n",
    "    '''\n",
    "    Calculates holding force given plunger length.\n",
    "    Parameter:\n",
    "    plunger_length -- length ball extends below plunger\n",
    "    Returns:\n",
    "    tuple containing contact angle and holding force\n",
    "    '''\n",
    "    contact_angle = math.acos((((ball_diameter / 2.0) - plunger_length) + offset_distance) / (ball_diameter / 2.0))\n",
    "    spring_force = (compressed_force - extended_force) * (extended_length - plunger_length) + extended_force\n",
    "    contact_force = spring_force / math.cos(contact_angle)\n",
    "    hold_force = contact_force * math.sin(contact_angle)\n",
    "    return (contact_angle, hold_force)\n",
    "\n",
    "print(\"When plunger fully extended:\")\n",
    "(contact_angle_fe, hold_force_fe) = calc_hold_force(extended_length)\n",
    "print(\"contact angle = %.3g degrees\" %math.degrees(contact_angle_fe))\n",
    "print(\"hold force = %.3g lbf\" %hold_force_fe)\n",
    "print(\"required hole diameter = %.3g inches\" %(2.0 * (ball_diameter / 2.0) * math.sin(contact_angle_fe)))"
   ]
  },
  {
   "cell_type": "code",
   "execution_count": 67,
   "metadata": {},
   "outputs": [
    {
     "data": {
      "image/png": "[encoded data removed]",
      "text/plain": [
       "<matplotlib.figure.Figure at 0x8d6c518>"
      ]
     },
     "metadata": {},
     "output_type": "display_data"
    }
   ],
   "source": [
    "%matplotlib inline\n",
    "import matplotlib.pyplot as plt\n",
    "\n",
    "max_length = extended_length\n",
    "min_length = offset_distance\n",
    "depress_percentages = []\n",
    "hold_forces = []\n",
    "for depress_percentage in range(0, 101, 1):\n",
    "    plunger_length = max_length - ((depress_percentage / 100.0) * (max_length - min_length))\n",
    "    (contact_angle, hold_force) = calc_hold_force(plunger_length)\n",
    "    depress_percentages.append(depress_percentage)\n",
    "    hold_forces.append(hold_force)\n",
    "plt.plot(depress_percentages, hold_forces)\n",
    "plt.xlabel(\"Amount Plunger Depressed [%]\")\n",
    "plt.ylabel(\"Holding Force [lbf]\")\n",
    "plt.axis([0, 100, 0, 2.25])\n",
    "plt.title(\"Holding Force as Ball-Nose Plunger is Depressed\")\n",
    "plt.show()"
   ]
  },
  {
   "cell_type": "markdown",
   "metadata": {},
   "source": [
    "The holding force seems reasonable for this application. The calculations to determine the force required to switch modes follow.\n",
    "\n",
    "<img src = \"images/fbd2.jpg\", width = 600>\n",
    "<div style = \"text-align: center\">Free Body Diagram of Handle</div>\n",
    "\n",
    "$r_{handle}$ is the radius of the handle<br>\n",
    "$r_{cam}$ is the distance from the center of the cam to the clamp<br>\n",
    "$d$ is the horizontal distance between the shaft axis and where the clamp weight is applied to the cam<br>\n",
    "$F_{switch}$ is the force required to move the handle<br>\n",
    "$F_{hold}$ is the holding force of the ball-nose plunger<br>\n",
    "$F_{clamp}$ is the weight of the clamp<br>\n",
    "$F_{friction}$ is force of friction between the clamp and cam<br>\n",
    "$T_{bearings}$ is the torsional resistance of the bearings (assume negligible)<br>\n",
    "\n",
    "The force from the clamp on the cam is approximated as the weight of the clamp, but it will be greater if the clamping pressure is non-zero. Assuming just the weight of the clamp will give a close-enough estimate.\n",
    "\n",
    "\\begin{align}\n",
    "    \\sum M_c&: F_{switch} r_{handle} - F_{hold} r_{handle} - F_{friction} r_{cam} - F_{clamp} d - T_{bearings} = 0\n",
    "\\end{align}"
   ]
  },
  {
   "cell_type": "code",
   "execution_count": 68,
   "metadata": {},
   "outputs": [
    {
     "name": "stdout",
     "output_type": "stream",
     "text": [
      "Case 1: switch force = 2.22 lbf\n",
      "Case 2: switch force = 2.23 lbf\n"
     ]
    }
   ],
   "source": [
    "hold_force = hold_force_fe # lbf\n",
    "handle_radius = 1.750 # inches\n",
    "cam_weight = .4 # lbm\n",
    "friction_coef = .4 # static for brass and steel contact (https://www.engineersedge.com/coeffients_of_friction.htm)\n",
    "\n",
    "# Case 1: Forward Mode to Neutral\n",
    "cam_max_radius = .710 # inches\n",
    "cam_min_radius = .490 # inches\n",
    "switch_force = (hold_force * handle_radius + friction_coef * cam_weight * cam_max_radius) / handle_radius\n",
    "print(\"Case 1: switch force = %.3g lbf\" %switch_force)\n",
    "\n",
    "# Case 2: Neutral Mode to Forward\n",
    "cam_radius = .600 # inches\n",
    "d = .110 # inches\n",
    "switch_force = (hold_force * handle_radius + friction_coef * cam_weight * cam_radius + cam_weight * d) / handle_radius\n",
    "print(\"Case 2: switch force = %.3g lbf\" %switch_force)"
   ]
  },
  {
   "cell_type": "markdown",
   "metadata": {},
   "source": [
    "The switching force is reasonable for a human operator. Now, the force the ball-nose plunger exerts on the handle when it is between modes will be calculated. It is equal to the spring force when the ball is depressed enough for the handle to rotate."
   ]
  },
  {
   "cell_type": "code",
   "execution_count": 71,
   "metadata": {},
   "outputs": [
    {
     "name": "stdout",
     "output_type": "stream",
     "text": [
      "Ball-nose plunger force on handle = 2.04\n"
     ]
    }
   ],
   "source": [
    "spring_force = (compressed_force - extended_force) * (extended_length - min_length) + extended_force\n",
    "print(\"Ball-nose plunger force on handle = %.3g\" %spring_force)"
   ]
  },
  {
   "cell_type": "markdown",
   "metadata": {},
   "source": [
    "This is a small force on the handle given that it is 1/8\" thick. The arced track is the same thickness. The deflection of these components does not need to be investigated further unless mass optimization is desired or another material is selected. Additionally, the ball-nose plunger position can be adjusted to allow for any minor deflections.\n",
    "\n",
    "## Detailed Design\n",
    "\n",
    "The following is a list of detail design tasks.\n",
    "\n",
    "- Design practices\n",
    "    - Design for manufacturability\n",
    "    - Design for assembly\n",
    "    - Conventions\n",
    "- Clamp\n",
    "    - Tooth dimensions\n",
    "    - Critical tolerances\n",
    "- Cam\n",
    "    - Critial tolerances and fits\n",
    "- Shaft and components\n",
    "    - Tolerances and fits\n",
    "- Radial bearings\n",
    "    - Specify wave spring\n",
    "    - Critial fits\n",
    "    - Life analysis\n",
    "- Linear bearings\n",
    "    - Critical tolerances and fits\n",
    "- Thermal effects\n",
    "    - Steps to take if large temperature range\n",
    "    \n",
    "### Design Practices\n",
    "\n",
    "All custom parts are designed so they can be manufactured. The housing front and back and handle should be made on a CNC mill. The clamp teeth could be cut by a gear manufacturer. All other parts can be made on a mill or lathe.\n",
    "\n",
    "The mechanism is designed so that it will be easy to assemble. The housing is made of 4 parts for this reason. Fasteners with the same thread size and pitch are used to reduce the number of tools required for assembly. An assembly procedure video is below. Note that the fasteners attaching the front and back housings should be tightened after everything else is in place. This way, the cam shaft and shoulder screws are aligning the front and back housings.\n",
    "\n",
    "Threaded inserts are specified for all fasteners that thread into aluminum. The thread engagement for each fastener is > 1D. Threadlocker could be applied for additional fastener security."
   ]
  },
  {
   "cell_type": "code",
   "execution_count": 1,
   "metadata": {},
   "outputs": [
    {
     "data": {
      "text/html": [
       "\n",
       "        <iframe\n",
       "            width=\"400\"\n",
       "            height=\"300\"\n",
       "            src=\"https://www.youtube.com/embed/Q9OaxQSBcWk\"\n",
       "            frameborder=\"0\"\n",
       "            allowfullscreen\n",
       "        ></iframe>\n",
       "        "
      ],
      "text/plain": [
       "<IPython.lib.display.YouTubeVideo at 0x7fc9081d3e50>"
      ]
     },
     "execution_count": 1,
     "metadata": {},
     "output_type": "execute_result"
    }
   ],
   "source": [
    "from IPython.display import YouTubeVideo\n",
    "# Mechanism Assembly Procedure\n",
    "YouTubeVideo('Q9OaxQSBcWk')"
   ]
  },
  {
   "cell_type": "markdown",
   "metadata": {},
   "source": [
    "### Clamp\n",
    "\n",
    "The clamp needs to be designed such that it will fully mesh with the timing belt teeth without overstressing them or clamping the belt with too much pressure, which could lead to faster belt wear. I would first check with the timing belt manufacturer to see if there is a clamping pressure limit specification. The following is an engineering drawing of the clamp with only critical dimensions shown.\n",
    "\n",
    "<img src = \"images/clamp.png\", width = 700>\n",
    "<div style = \"text-align: center\">Clamp Drawing</div>\n",
    "\n",
    "- The clamp teeth are specified to be longer than the timing belt teeth and the width of the clamp teeth are undersized to ensure that the timing belt teeth are not overstressed during clamping.\n",
    "- A pitch to pitch tolerance of +- .001\" was recommended by SDP/SI (http://www.sdp-si.com/PDFS/Technical-Section-Timing.pdf; pg. 46).\n",
    "- Linear bearing hole tolerances are driven by its housing specifications (https://www.mcmaster.com/#9533t1/=19tijwe).\n",
    "- The linear bearings should be shimmed so they will not move with respect to the clamp.\n",
    "\n",
    "### Cam\n",
    "\n",
    "The cam needs to be designed so that the side that presses the cam is held to a tight tolerance with respect to the shaft center. This will ensure that the clamp and timing belt teeth fully mesh.\n",
    "\n",
    "<img src = \"images/cam.png\", width = 750>\n",
    "<div style = \"text-align: center\">Cam Drawing</div>\n",
    "\n",
    "- The cam is given a sliding fit with the clamp.\n",
    "- The cam is given a location interference fit with the shaft.\n",
    "\n",
    "### Shaft and Components\n",
    "\n",
    "In order for the all the components to be tight on the shaft, the shaft should be toleranced to be shorter than the sum of the components. The shaft also needs to have a press fit with the bearings. The spacers should be machined after a test fit to eliminate axial tolerance stack-up. The spacers should have a slip fit with the shaft.\n",
    "\n",
    "<img src = \"images/shaft.png\", width = 400>\n",
    "<div style = \"text-align: center\">Cross Section to Show Shaft</div>\n",
    "\n",
    "### Bearings\n",
    "\n",
    "Whenever bearings are in a design, I would typically perform bearing life calculations to detemine if the bearings will last for the intended life of the system. In this case, the loads and speeds that the bearings are seeing are very small compared to their specifications.\n",
    "\n",
    "R8-2Z Radial bearing specifications:\n",
    "- dynamic radial load capaticy = 915 lbf\n",
    "- static radial load capacity = 505 lbf\n",
    "- maximum speed = 27000 rpm\n",
    "\n",
    "Linear bearing specifications:\n",
    "- dynamic load capability = 50 lbf at 100 fpm\n",
    "- static load capability = 935 lbf\n",
    "\n",
    "Since these bearings will not experience continuous motion and are very lightly loaded, the life calculations are not that meaningful.\n",
    "\n",
    "The wave spring should be specified to provide enough axial load on the bearings to remove internal play. The additional bennefit of a wave spring for preloading is that if there is any coefficient of thermal expansion mismatch in the components on the shaft or housing, the spring can be specified to retain the axial load desite the gap.\n",
    "\n",
    "For this application, a light preload will suffice (~1% of bearing load capacity (http://web.mit.edu/2.75/fundamentals/FUNdaMENTALs%20Book%20pdf/FUNdaMENTALs%20Topic%2010.PDF)). This is approxiamtely 5 lbf.\n",
    "\n",
    "The bearing in the front housing should have a press fit with the housing. The bearing in the back housing should have a slip fit with the housing. This prevents over constraining the shaft.\n",
    "\n",
    "### Thermal Effects\n",
    "\n",
    "If the temperature range is expected to be large, thermal coefficient of expansion mismatches should be considered. The fits between parts with dissimilar materials will be altered. The following equation is the strain given a change in temperature.\n",
    "\n",
    "\\begin{align}\n",
    "    \\epsilon = \\alpha \\triangle T\n",
    "\\end{align}\n",
    "\n",
    "|  Material       | $\\alpha$ [m/m K]|\n",
    "|:----------------|:----------------|\n",
    "| Aluminum        | 21 - 24         |\n",
    "| Brass           | 18 - 19         |\n",
    "| Stainless Steel | 10 - 17         |\n",
    "\n",
    "(https://www.engineeringtoolbox.com/linear-expansion-coefficients-d_95.html)\n",
    "\n",
    "Additionally, the fits on the bearings should be investigated. The bearings will fail if the Hertzian stress at the ball and race contact becomes too great."
   ]
  },
  {
   "cell_type": "code",
   "execution_count": null,
   "metadata": {
    "collapsed": true
   },
   "outputs": [],
   "source": []
  }
 ],
 "metadata": {
  "kernelspec": {
   "display_name": "Python 2",
   "language": "python",
   "name": "python2"
  },
  "language_info": {
   "codemirror_mode": {
    "name": "ipython",
    "version": 2
   },
   "file_extension": ".py",
   "mimetype": "text/x-python",
   "name": "python",
   "nbconvert_exporter": "python",
   "pygments_lexer": "ipython2",
   "version": "2.7.12"
  }
 },
 "nbformat": 4,
 "nbformat_minor": 1
}
